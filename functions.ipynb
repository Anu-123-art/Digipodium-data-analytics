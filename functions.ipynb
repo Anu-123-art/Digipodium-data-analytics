{
 "cells": [
  {
   "cell_type": "code",
   "execution_count": 4,
   "metadata": {},
   "outputs": [],
   "source": [
    "#function defination\n",
    "def pythagoras(base,perpendicular):\n",
    "    return (base**2+perpendicular**2)**0.5"
   ]
  },
  {
   "cell_type": "code",
   "execution_count": 5,
   "metadata": {},
   "outputs": [
    {
     "data": {
      "text/plain": [
       "6.4031242374328485"
      ]
     },
     "execution_count": 5,
     "metadata": {},
     "output_type": "execute_result"
    }
   ],
   "source": [
    "#calling\n",
    "pythagoras(4,5)"
   ]
  },
  {
   "attachments": {},
   "cell_type": "markdown",
   "metadata": {},
   "source": [
    "lambda experessions-for making anonymous functions(1 line function)"
   ]
  },
  {
   "cell_type": "code",
   "execution_count": 6,
   "metadata": {},
   "outputs": [
    {
     "name": "stdout",
     "output_type": "stream",
     "text": [
      "9\n"
     ]
    }
   ],
   "source": [
    "f=lambda x:x**2+2*x+1\n",
    "print(f(2))"
   ]
  },
  {
   "cell_type": "code",
   "execution_count": 7,
   "metadata": {},
   "outputs": [
    {
     "name": "stdout",
     "output_type": "stream",
     "text": [
      "25\n"
     ]
    }
   ],
   "source": [
    "g=lambda x,y:x**2+2*x*y+y**2\n",
    "print(g(2,3))\n"
   ]
  },
  {
   "cell_type": "code",
   "execution_count": 9,
   "metadata": {},
   "outputs": [
    {
     "name": "stdout",
     "output_type": "stream",
     "text": [
      "3.605551275463989\n"
     ]
    }
   ],
   "source": [
    "py=lambda b,p:(b**2+p**2)**0.5\n",
    "print(py(2,3))\n"
   ]
  },
  {
   "cell_type": "code",
   "execution_count": 12,
   "metadata": {},
   "outputs": [
    {
     "name": "stdout",
     "output_type": "stream",
     "text": [
      "3\n"
     ]
    }
   ],
   "source": [
    "ar_of_tri=lambda b,h:(b*h)*0.5\n",
    "print(int(ar_of_tri(2,3)))"
   ]
  },
  {
   "cell_type": "code",
   "execution_count": 13,
   "metadata": {},
   "outputs": [
    {
     "data": {
      "text/plain": [
       "10080.0"
      ]
     },
     "execution_count": 13,
     "metadata": {},
     "output_type": "execute_result"
    }
   ],
   "source": [
    "#what is the amt after 16% discount on 12000\n",
    "12000-((12000*16)/100)\n"
   ]
  },
  {
   "cell_type": "code",
   "execution_count": 23,
   "metadata": {},
   "outputs": [
    {
     "name": "stdout",
     "output_type": "stream",
     "text": [
      "Dicount amt for 10000 is 8400\n",
      "Dicount amt for 30000 is 25200\n",
      "Dicount amt for 12999 is 10919\n",
      "Dicount amt for 50000 is 42000\n",
      "Dicount amt for 43999 is 36959\n",
      "Dicount amt for 10500 is 8820\n",
      "original price: [10000, 30000, 12999, 50000, 43999, 10500]\n",
      "Discounted price: [8400, 25200, 10919, 42000, 36959, 8820]\n"
     ]
    }
   ],
   "source": [
    "p=[10000,30000,12999,50000,43999,10500]\n",
    "dis_prices=[]\n",
    "for i in p:\n",
    "    x=int((i-((i*16)/100)))\n",
    "    print(\"Dicount amt for\",i,\"is\",x)\n",
    "    dis_prices.append(x)    \n",
    "print(\"original price:\",p)\n",
    "print(\"Discounted price:\",dis_prices)\n",
    "   "
   ]
  },
  {
   "cell_type": "code",
   "execution_count": 24,
   "metadata": {},
   "outputs": [
    {
     "data": {
      "text/plain": [
       "[8400.0, 25200.0, 10919.16, 42000.0, 36959.16, 8820.0]"
      ]
     },
     "execution_count": 24,
     "metadata": {},
     "output_type": "execute_result"
    }
   ],
   "source": [
    "list(map(lambda p:(p-((p*16)/100)),p))\n"
   ]
  },
  {
   "cell_type": "code",
   "execution_count": 26,
   "metadata": {},
   "outputs": [
    {
     "name": "stdout",
     "output_type": "stream",
     "text": [
      "Square of no is [1, 4, 9, 2025, 36, 49, 64, 49, 36]\n"
     ]
    }
   ],
   "source": [
    "x=[1,2,3,45,6,7,8,7,6]\n",
    "y=list(map(lambda x:(x**2),x))\n",
    "print(\"Square of no is\",y)"
   ]
  },
  {
   "cell_type": "code",
   "execution_count": 7,
   "metadata": {},
   "outputs": [
    {
     "data": {
      "text/plain": [
       "10"
      ]
     },
     "execution_count": 7,
     "metadata": {},
     "output_type": "execute_result"
    }
   ],
   "source": [
    "def fun(arr):\n",
    "    s=0\n",
    "    for i in arr:\n",
    "        s=s+i\n",
    "    return s\n",
    "    \n",
    "arr=[1,2,3,4]\n",
    "fun(arr)     \n"
   ]
  },
  {
   "cell_type": "code",
   "execution_count": null,
   "metadata": {},
   "outputs": [],
   "source": []
  }
 ],
 "metadata": {
  "kernelspec": {
   "display_name": "base",
   "language": "python",
   "name": "python3"
  },
  "language_info": {
   "codemirror_mode": {
    "name": "ipython",
    "version": 3
   },
   "file_extension": ".py",
   "mimetype": "text/x-python",
   "name": "python",
   "nbconvert_exporter": "python",
   "pygments_lexer": "ipython3",
   "version": "3.10.10"
  },
  "orig_nbformat": 4
 },
 "nbformat": 4,
 "nbformat_minor": 2
}
