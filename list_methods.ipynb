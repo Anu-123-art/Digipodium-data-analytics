{
 "cells": [
  {
   "cell_type": "code",
   "execution_count": 35,
   "metadata": {},
   "outputs": [
    {
     "name": "stdout",
     "output_type": "stream",
     "text": [
      "[1, 2, 3, 'anu']\n",
      "2\n",
      "[1, 3, 'anu']\n",
      "None\n",
      "[1, 3]\n"
     ]
    }
   ],
   "source": [
    "#list methods\n",
    "#delete methods\n",
    "#pop\n",
    "arr=[1,2,3,'anu','rashu']\n",
    "arr.pop()\n",
    "print(arr)\n",
    "print(arr.pop(1))\n",
    "print(arr)\n",
    "#remove(value)\n",
    "print(arr.remove('anu'))\n",
    "print(arr)\n"
   ]
  },
  {
   "cell_type": "code",
   "execution_count": 36,
   "metadata": {},
   "outputs": [
    {
     "name": "stdout",
     "output_type": "stream",
     "text": [
      "1000\n",
      "-1\n"
     ]
    }
   ],
   "source": [
    "A=[1,2,3,4,5,6,1000,-1,3]\n",
    "#MAX\n",
    "print(max(A))\n",
    "#MIN\n",
    "print(min(A))"
   ]
  },
  {
   "cell_type": "code",
   "execution_count": 37,
   "metadata": {},
   "outputs": [
    {
     "name": "stdout",
     "output_type": "stream",
     "text": [
      "[3, -1, 1000, 6, 5, 4, 3, 2, 1]\n"
     ]
    }
   ],
   "source": [
    "#reverse\n",
    "#A.reverse()\n",
    "#print(A)\n",
    "print(A[::-1])"
   ]
  },
  {
   "cell_type": "code",
   "execution_count": 38,
   "metadata": {},
   "outputs": [
    {
     "name": "stdout",
     "output_type": "stream",
     "text": [
      "komal\n",
      "anu\n"
     ]
    }
   ],
   "source": [
    "B=['anu','komal','kashika']\n",
    "print(max(B))\n",
    "print(min(B))# follow ASCII rule or lexical graphical order"
   ]
  },
  {
   "cell_type": "code",
   "execution_count": 39,
   "metadata": {},
   "outputs": [
    {
     "name": "stdout",
     "output_type": "stream",
     "text": [
      "4\n"
     ]
    }
   ],
   "source": [
    "#count\n",
    "arr1=[1,2,3,4,4,5,5,5,5,8,9]\n",
    "print(arr1.count(5))"
   ]
  },
  {
   "cell_type": "code",
   "execution_count": 42,
   "metadata": {},
   "outputs": [
    {
     "name": "stdout",
     "output_type": "stream",
     "text": [
      "[-1, 1, 2, 3, 4, 5, 8, 52]\n",
      "[52, 8, 5, 4, 3, 2, 1, -1]\n"
     ]
    }
   ],
   "source": [
    "#sort\n",
    "a1=[8,3,4,52,5,1,2,-1]\n",
    "a1.sort()\n",
    "print(a1)\n",
    "a1.sort(reverse=True)\n",
    "print(a1)"
   ]
  },
  {
   "cell_type": "code",
   "execution_count": 43,
   "metadata": {},
   "outputs": [
    {
     "name": "stdout",
     "output_type": "stream",
     "text": [
      "[1, 2, 3, 4]\n",
      "[1, 2, 3, 4, [4, 5, 6]]\n",
      "[1, 2, 3, 4, [4, 5, 6], 6, 7, 8]\n"
     ]
    }
   ],
   "source": [
    "#extend method\n",
    "a1=[1,2,3]\n",
    "a1.append(4)\n",
    "print(a1)\n",
    "a1.append([4,5,6])#append as it is list ko add kardeta h\n",
    "print(a1)\n",
    "a1.extend([6,7,8])#extend one one add karta h element and extend only has iterable value i.e looping value like list,tupple,dictionary\n",
    "print(a1)"
   ]
  },
  {
   "cell_type": "code",
   "execution_count": null,
   "metadata": {},
   "outputs": [],
   "source": []
  }
 ],
 "metadata": {
  "kernelspec": {
   "display_name": "base",
   "language": "python",
   "name": "python3"
  },
  "language_info": {
   "codemirror_mode": {
    "name": "ipython",
    "version": 3
   },
   "file_extension": ".py",
   "mimetype": "text/x-python",
   "name": "python",
   "nbconvert_exporter": "python",
   "pygments_lexer": "ipython3",
   "version": "3.10.10"
  },
  "orig_nbformat": 4
 },
 "nbformat": 4,
 "nbformat_minor": 2
}
