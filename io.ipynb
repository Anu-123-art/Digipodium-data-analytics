{
 "cells": [
  {
   "cell_type": "code",
   "execution_count": 1,
   "metadata": {},
   "outputs": [
    {
     "name": "stdout",
     "output_type": "stream",
     "text": [
      "anu\n"
     ]
    }
   ],
   "source": [
    "name=\"anu\"\n",
    "print(name)"
   ]
  },
  {
   "attachments": {},
   "cell_type": "markdown",
   "metadata": {},
   "source": [
    "datatypes-\n",
    "int(whole nu)\n",
    "float(decimal)\n",
    "strings\n",
    "booleans\n",
    "none(null values ke liye)\n",
    "list[]\n",
    "tupple()\n",
    "sets{}\n",
    "dictionary-key value pair-:complex data"
   ]
  },
  {
   "cell_type": "code",
   "execution_count": 3,
   "metadata": {},
   "outputs": [],
   "source": [
    "city=input(\"enter a city\")"
   ]
  },
  {
   "cell_type": "code",
   "execution_count": 4,
   "metadata": {},
   "outputs": [],
   "source": [
    "college=input(\"enter a college name\")\n",
    "classname=input(\"enter a class name\")\n",
    "iq=input(\"enter a iq\")"
   ]
  },
  {
   "cell_type": "code",
   "execution_count": 15,
   "metadata": {},
   "outputs": [
    {
     "name": "stdout",
     "output_type": "stream",
     "text": [
      " name: anu\n",
      " college: lbsgcm\n",
      " classname: bca 2nd year\n",
      " iq: 95\n"
     ]
    }
   ],
   "source": [
    "print(\" name:\",name )\n",
    "print(\" college:\",college)\n",
    "print(\" classname:\", classname)\n",
    "print(\" iq:\",iq)"
   ]
  },
  {
   "cell_type": "code",
   "execution_count": 16,
   "metadata": {},
   "outputs": [
    {
     "name": "stdout",
     "output_type": "stream",
     "text": [
      "anu\n",
      "😍😍lbsgcm\n",
      "😍😍bca 2nd year\n"
     ]
    }
   ],
   "source": [
    "print(name,college,classname,sep='\\n😍😍')"
   ]
  },
  {
   "cell_type": "code",
   "execution_count": 18,
   "metadata": {},
   "outputs": [
    {
     "data": {
      "text/plain": [
       "'myname anu'"
      ]
     },
     "execution_count": 18,
     "metadata": {},
     "output_type": "execute_result"
    }
   ],
   "source": [
    "f'myname {name}'# in {} we put variables and f is used to make a smart string(format string)\n",
    "\n",
    "#it gives raw output therefore it is not a right way to give output therefore we use print"
   ]
  },
  {
   "cell_type": "code",
   "execution_count": 20,
   "metadata": {},
   "outputs": [
    {
     "name": "stdout",
     "output_type": "stream",
     "text": [
      "hello i am anu and i live in lko\n",
      "i study in lbsgcm\n",
      "i am in bca 2nd year\n"
     ]
    }
   ],
   "source": [
    "print(f'hello i am {name} and i live in {city}')\n",
    "print(f'i study in {college}')\n",
    "print(f'i am in {classname}')"
   ]
  },
  {
   "cell_type": "code",
   "execution_count": null,
   "metadata": {},
   "outputs": [],
   "source": []
  }
 ],
 "metadata": {
  "kernelspec": {
   "display_name": "base",
   "language": "python",
   "name": "python3"
  },
  "language_info": {
   "codemirror_mode": {
    "name": "ipython",
    "version": 3
   },
   "file_extension": ".py",
   "mimetype": "text/x-python",
   "name": "python",
   "nbconvert_exporter": "python",
   "pygments_lexer": "ipython3",
   "version": "3.10.10"
  },
  "orig_nbformat": 4
 },
 "nbformat": 4,
 "nbformat_minor": 2
}
