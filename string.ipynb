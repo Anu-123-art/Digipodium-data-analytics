{
 "cells": [
  {
   "cell_type": "code",
   "execution_count": 1,
   "metadata": {},
   "outputs": [
    {
     "name": "stdout",
     "output_type": "stream",
     "text": [
      "1\n"
     ]
    }
   ],
   "source": [
    "#string is a sequence of chracter that is enclosed in a single or double inverted commas\n",
    "#initialise the string\n",
    "\n",
    "s=''\n",
    "b=1\n",
    "#typecasting\n",
    "print(str(b))\n"
   ]
  },
  {
   "cell_type": "code",
   "execution_count": 4,
   "metadata": {},
   "outputs": [
    {
     "name": "stdout",
     "output_type": "stream",
     "text": [
      "23\n",
      "a\n",
      "P\n",
      "0 S\n",
      "1 a\n",
      "2 n\n",
      "3 t\n",
      "4  \n",
      "5 P\n",
      "6 r\n",
      "7 a\n",
      "8 k\n",
      "9 a\n",
      "10 s\n",
      "11 h\n",
      "12  \n",
      "13 S\n",
      "14 r\n",
      "15 i\n",
      "16 v\n",
      "17 a\n",
      "18 s\n",
      "19 t\n",
      "20 a\n",
      "21 v\n",
      "22 a\n"
     ]
    }
   ],
   "source": [
    "#len\n",
    "a='Sant Prakash Srivastava'\n",
    "print(len(a))\n",
    "\n",
    "#indexing\n",
    "#-7-6-5-4-3-2-1\n",
    "#anushka\n",
    "#0123456\n",
    "print(a[-1])\n",
    "print(a[5])\n",
    "#for i in range(len(a)):### for finding out index value\n",
    "    #print(i,a[i])\n",
    "    "
   ]
  },
  {
   "cell_type": "code",
   "execution_count": 9,
   "metadata": {},
   "outputs": [
    {
     "name": "stdout",
     "output_type": "stream",
     "text": [
      "Sant Prakash Srivastava\n",
      "Prakash Srivastava\n",
      "nt P\n",
      "nt Prakash Srivastav\n"
     ]
    }
   ],
   "source": [
    "\n",
    "#slicing\n",
    "print(a[:])\n",
    "print(a[5:])\n",
    "print(a[2:6])\n",
    "print(a[2:-1])"
   ]
  },
  {
   "cell_type": "code",
   "execution_count": 1,
   "metadata": {},
   "outputs": [
    {
     "name": "stdout",
     "output_type": "stream",
     "text": [
      "Life before death\n"
     ]
    }
   ],
   "source": [
    "msg='Life before death,Strength before weakness,Journey before destination.'\n",
    "x=msg[:17]\n",
    "print(x)\n",
    "\n",
    "\n"
   ]
  },
  {
   "cell_type": "code",
   "execution_count": 3,
   "metadata": {},
   "outputs": [
    {
     "data": {
      "text/plain": [
       "['Life before death',\n",
       " 'Strength before weakness',\n",
       " 'Journey before destination.']"
      ]
     },
     "execution_count": 3,
     "metadata": {},
     "output_type": "execute_result"
    }
   ],
   "source": [
    "#split\n",
    "msg.split(',')"
   ]
  },
  {
   "cell_type": "code",
   "execution_count": 21,
   "metadata": {},
   "outputs": [
    {
     "name": "stdout",
     "output_type": "stream",
     "text": [
      "Rain Rain go away;\n",
      " come again another day.\n",
      " little jonny wants to play;\n",
      " Rain Rain go away!!!!!\n",
      "-#--#--#--#--#--#--#--#--#--#-\n",
      "96 No of charcters\n",
      "No of words 17\n",
      "No of sentence 2\n",
      "['Rain Rain go away;\\n come again another day', '\\n little jonny wants to play;\\n Rain Rain go away!!!!!']\n",
      "4\n",
      "message::: Life before death,Strength before weakness,Journey before destination.\n",
      "upper::: LIFE BEFORE DEATH,STRENGTH BEFORE WEAKNESS,JOURNEY BEFORE DESTINATION.\n",
      "capitalize::: Life before death,strength before weakness,journey before destination.\n",
      "lower::: life before death,strength before weakness,journey before destination.\n",
      "title::: Life Before Death,Strength Before Weakness,Journey Before Destination.\n",
      "swapcase::: lIFE BEFORE DEATH,sTRENGTH BEFORE WEAKNESS,jOURNEY BEFORE DESTINATION.\n"
     ]
    }
   ],
   "source": [
    "\n",
    "poem='''Rain Rain go away;\n",
    " come again another day.\n",
    " little jonny wants to play;\n",
    " Rain Rain go away!!!!!'''\n",
    "print(poem)\n",
    "print('-#-'*10)\n",
    "print((len(poem)),'No of charcters')\n",
    "print(\"No of words\", len(poem.split()))\n",
    "print(\"No of sentence\", len(poem.split('.')))\n",
    "x=poem.split('.')\n",
    "print(x)\n",
    "#count\n",
    "print(poem.count('Rain'))\n",
    "print('message:::',msg)\n",
    "print('upper:::',msg.upper())\n",
    "print('capitalize:::',msg.capitalize())\n",
    "print('lower:::',msg.lower())\n",
    "print('title:::',msg.title())\n",
    "print('swapcase:::',msg.swapcase())\n",
    "\n",
    "\n",
    "\n",
    "\n",
    "\n",
    "\n",
    "\n"
   ]
  },
  {
   "cell_type": "code",
   "execution_count": 22,
   "metadata": {},
   "outputs": [
    {
     "name": "stdout",
     "output_type": "stream",
     "text": [
      "apple False\n",
      "apple True\n",
      "apple True\n",
      "290 True\n",
      "290 False\n",
      "290 True\n",
      "apple200 False\n",
      "apple200 False\n",
      "apple200 True\n"
     ]
    }
   ],
   "source": [
    "a='apple'\n",
    "b='290'\n",
    "c='apple200'\n",
    "print(a,a.isnumeric())#check if all characters are numeric\n",
    "print(a,a.isalpha())#check if all characters are alphabets\n",
    "print(a,a.isalnum())#check if all characters are alphanumeric\n",
    "print(b,b.isnumeric())#check if all characters are numeric\n",
    "print(b,b.isalpha())#check if all characters are alphabets\n",
    "print(b,b.isalnum())#check if all characters are alphanumeric\n",
    "print(c,c.isnumeric())#check if all characters are numeric\n",
    "print(c,c.isalpha())#check if all characters are alphabets\n",
    "print(c,c.isalnum())#check if all characters are alphanumeric\n"
   ]
  },
  {
   "cell_type": "code",
   "execution_count": 27,
   "metadata": {},
   "outputs": [
    {
     "name": "stdout",
     "output_type": "stream",
     "text": [
      "Rain Rain go away;\n",
      " come again another day.\n",
      " little jonny wants to play;\n",
      " Rain Rain go away!!!!!\n",
      "--@----@----@----@----@----@----@----@----@----@--\n",
      "Pain Pain go away;\n",
      " come again another day.\n",
      " little jonny wants to play;\n",
      " Pain Pain go away!!!!!\n",
      "Rasu Rasu go away;\n",
      " come again another day.\n",
      " little jonny wants to play;\n",
      " Rain Rain go away!!!!!\n"
     ]
    }
   ],
   "source": [
    "print(poem)\n",
    "print('--@--'*10)\n",
    "print(poem.replace('Rain','Pain'))#word which needs to be change write first and change word in second\n",
    "print(poem.replace('in','su',2))#2 is the limit that is only first two should change\n"
   ]
  },
  {
   "cell_type": "code",
   "execution_count": null,
   "metadata": {},
   "outputs": [],
   "source": []
  }
 ],
 "metadata": {
  "kernelspec": {
   "display_name": "base",
   "language": "python",
   "name": "python3"
  },
  "language_info": {
   "codemirror_mode": {
    "name": "ipython",
    "version": 3
   },
   "file_extension": ".py",
   "mimetype": "text/x-python",
   "name": "python",
   "nbconvert_exporter": "python",
   "pygments_lexer": "ipython3",
   "version": "3.10.10"
  },
  "orig_nbformat": 4
 },
 "nbformat": 4,
 "nbformat_minor": 2
}
