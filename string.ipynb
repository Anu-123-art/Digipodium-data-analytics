{
 "cells": [
  {
   "cell_type": "code",
   "execution_count": 1,
   "metadata": {},
   "outputs": [
    {
     "name": "stdout",
     "output_type": "stream",
     "text": [
      "1\n"
     ]
    }
   ],
   "source": [
    "#string is a sequence of chracter that is enclosed in a single or double inverted commas\n",
    "#initialise the string\n",
    "\n",
    "s=''\n",
    "b=1\n",
    "#typecasting\n",
    "print(str(b))\n"
   ]
  },
  {
   "cell_type": "code",
   "execution_count": 4,
   "metadata": {},
   "outputs": [
    {
     "name": "stdout",
     "output_type": "stream",
     "text": [
      "23\n",
      "a\n",
      "P\n",
      "0 S\n",
      "1 a\n",
      "2 n\n",
      "3 t\n",
      "4  \n",
      "5 P\n",
      "6 r\n",
      "7 a\n",
      "8 k\n",
      "9 a\n",
      "10 s\n",
      "11 h\n",
      "12  \n",
      "13 S\n",
      "14 r\n",
      "15 i\n",
      "16 v\n",
      "17 a\n",
      "18 s\n",
      "19 t\n",
      "20 a\n",
      "21 v\n",
      "22 a\n"
     ]
    }
   ],
   "source": [
    "#len\n",
    "a='Sant Prakash Srivastava'\n",
    "print(len(a))\n",
    "\n",
    "#indexing\n",
    "#-7-6-5-4-3-2-1\n",
    "#anushka\n",
    "#0123456\n",
    "print(a[-1])\n",
    "print(a[5])\n",
    "#for i in range(len(a)):### for finding out index value\n",
    "    #print(i,a[i])\n",
    "    "
   ]
  },
  {
   "cell_type": "code",
   "execution_count": 9,
   "metadata": {},
   "outputs": [
    {
     "name": "stdout",
     "output_type": "stream",
     "text": [
      "Sant Prakash Srivastava\n",
      "Prakash Srivastava\n",
      "nt P\n",
      "nt Prakash Srivastav\n"
     ]
    }
   ],
   "source": [
    "\n",
    "#slicing\n",
    "print(a[:])\n",
    "print(a[5:])\n",
    "print(a[2:6])\n",
    "print(a[2:-1])"
   ]
  },
  {
   "cell_type": "code",
   "execution_count": null,
   "metadata": {},
   "outputs": [],
   "source": []
  }
 ],
 "metadata": {
  "kernelspec": {
   "display_name": "base",
   "language": "python",
   "name": "python3"
  },
  "language_info": {
   "codemirror_mode": {
    "name": "ipython",
    "version": 3
   },
   "file_extension": ".py",
   "mimetype": "text/x-python",
   "name": "python",
   "nbconvert_exporter": "python",
   "pygments_lexer": "ipython3",
   "version": "3.10.10"
  },
  "orig_nbformat": 4
 },
 "nbformat": 4,
 "nbformat_minor": 2
}
