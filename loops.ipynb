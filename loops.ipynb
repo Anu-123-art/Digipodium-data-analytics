{
 "cells": [
  {
   "attachments": {},
   "cell_type": "markdown",
   "metadata": {},
   "source": [
    "\n",
    "### for and while loop\n",
    "\n",
    "### for- step based loop\n",
    "\n",
    "\n",
    "\n",
    "```\n",
    "for i in range(10)\n",
    " print(i)\n",
    "```                  \n",
    "### used for\n",
    "            - iterating over sequence(list,tuple,string)\n",
    "            - iterating over a range\n",
    "\n",
    "### in data analytics we used for loop mainly\n",
    "\n",
    "### while- condition based loop\n",
    "```\n",
    "i=0\n",
    "whilei<10:\n",
    "    print(i)\n",
    "    i+=1 \n",
    "```\n",
    "                 - used for \n",
    "                           - iterating until a condition is met\n",
    "                           - iterating until a cond is no longer me\n",
    "                           - iterating forever(if u dont break out of it) "
   ]
  },
  {
   "cell_type": "code",
   "execution_count": 13,
   "metadata": {},
   "outputs": [
    {
     "data": {
      "text/plain": [
       "10"
      ]
     },
     "execution_count": 13,
     "metadata": {},
     "output_type": "execute_result"
    }
   ],
   "source": [
    "movies=['uri','shershah','the kerela story','kashmiri files','super 30','tarre zameen par','the conjuring','terminator2','the london files','terminator']\n",
    "###print(f'total movies ={len(movies)}')\n",
    "len(movies)"
   ]
  },
  {
   "cell_type": "code",
   "execution_count": 14,
   "metadata": {},
   "outputs": [
    {
     "name": "stdout",
     "output_type": "stream",
     "text": [
      "uri\n",
      "shershah\n",
      "the kerela story\n",
      "kashmiri files\n",
      "super 30\n",
      "tarre zameen par\n",
      "the conjuring\n",
      "terminator2\n",
      "the london files\n",
      "terminator\n"
     ]
    }
   ],
   "source": [
    "for movie in movies:\n",
    "    print(movie)"
   ]
  },
  {
   "cell_type": "code",
   "execution_count": 15,
   "metadata": {},
   "outputs": [
    {
     "name": "stdout",
     "output_type": "stream",
     "text": [
      "uri 3\n",
      "shershah 8\n",
      "the kerela story 16\n",
      "kashmiri files 14\n",
      "super 30 8\n",
      "tarre zameen par 16\n",
      "the conjuring 13\n",
      "terminator2 11\n",
      "the london files 16\n",
      "terminator 10\n"
     ]
    }
   ],
   "source": [
    "for movie in movies:\n",
    "    print(movie, len(movie))\n",
    "    ###print(f'movie name={movie:50} lenght of the movie = {len(movie)}')"
   ]
  },
  {
   "cell_type": "code",
   "execution_count": 16,
   "metadata": {},
   "outputs": [
    {
     "name": "stdout",
     "output_type": "stream",
     "text": [
      "23\n",
      "45\n",
      "56\n",
      "76\n",
      "54\n",
      "66\n",
      "56\n",
      "556\n",
      "4\n"
     ]
    }
   ],
   "source": [
    "nums=[23,45,56,76,54,66,56,556,4]\n",
    "for i in nums:\n",
    "    print(i)"
   ]
  },
  {
   "cell_type": "code",
   "execution_count": 17,
   "metadata": {},
   "outputs": [
    {
     "name": "stdout",
     "output_type": "stream",
     "text": [
      "square of 23 is 12167\n",
      "square of 45 is 91125\n",
      "68\n"
     ]
    }
   ],
   "source": [
    "total_odd=0\n",
    "for i in nums:\n",
    "    if(i%2!=0):\n",
    "       print('square of',i,'is',i**3)\n",
    "       total_odd +=i\n",
    "print(total_odd)       "
   ]
  },
  {
   "cell_type": "code",
   "execution_count": 18,
   "metadata": {},
   "outputs": [
    {
     "name": "stdout",
     "output_type": "stream",
     "text": [
      "23\n",
      "45\n"
     ]
    }
   ],
   "source": [
    "for i in nums:\n",
    "    ###print(i)\n",
    "    if i>50:\n",
    "        break\n",
    "    print(i)"
   ]
  },
  {
   "cell_type": "code",
   "execution_count": 19,
   "metadata": {},
   "outputs": [
    {
     "name": "stdout",
     "output_type": "stream",
     "text": [
      "apple\n",
      "mango\n",
      "banana\n",
      "\n"
     ]
    }
   ],
   "source": [
    "x=['apple','mango','banana','','orange','grapes']\n",
    "for item in x:\n",
    "    print(item)\n",
    "    ###if item=='':\n",
    "    ###if len(item)==0:\n",
    "    if not item:\n",
    "        break\n",
    "         "
   ]
  },
  {
   "cell_type": "code",
   "execution_count": 20,
   "metadata": {},
   "outputs": [],
   "source": [
    "errors=0\n",
    "while True:\n",
    "    username= input('enter username:')\n",
    "    password= input('enter the password:')\n",
    "    if username== 'admin' and password=='secret':\n",
    "        print('login successfully')\n",
    "        break\n",
    "    elif errors==3:\n",
    "        print('to many errors')\n",
    "        break\n",
    "    else:\n",
    "        print('invalid user name/password')\n",
    "        errors+=1"
   ]
  },
  {
   "cell_type": "code",
   "execution_count": null,
   "metadata": {},
   "outputs": [],
   "source": [
    "x=[\n",
    "    ['GC LEONG',346],['LAKSHMIKANT',1049],['ART AND CULTURE- NITIN SINGHANIA',989],['INDIA STRUGGLE FOR INDEPENDENCE',589],['INTERNAL SECURITY-VS SAHNI',678]\n",
    "]"
   ]
  },
  {
   "cell_type": "code",
   "execution_count": null,
   "metadata": {},
   "outputs": [
    {
     "name": "stdout",
     "output_type": "stream",
     "text": [
      "GC LEONG\n",
      "346\n",
      "---\n",
      "LAKSHMIKANT\n",
      "1049\n",
      "---\n",
      "ART AND CULTURE- NITIN SINGHANIA\n",
      "989\n",
      "---\n",
      "INDIA STRUGGLE FOR INDEPENDENCE\n",
      "589\n",
      "---\n",
      "INTERNAL SECURITY-VS SAHNI\n",
      "678\n",
      "---\n"
     ]
    }
   ],
   "source": [
    "for item in x:\n",
    "    for data in item:\n",
    "\n",
    "       print(data)\n",
    "    print('---')    "
   ]
  },
  {
   "attachments": {},
   "cell_type": "markdown",
   "metadata": {},
   "source": [
    "List implementation using append----\n",
    "-append\n",
    "-insert(index,value)\n",
    "           -arr.insert(index,value)"
   ]
  },
  {
   "cell_type": "code",
   "execution_count": null,
   "metadata": {},
   "outputs": [
    {
     "name": "stdout",
     "output_type": "stream",
     "text": [
      "['anushka', 'shreya', 'anu', 'akshita', 'shi']\n"
     ]
    }
   ],
   "source": [
    "a=[]\n",
    "for i in range(5):\n",
    "    x=input('enter the element')\n",
    "    i+=1\n",
    "    a.append(x)   \n",
    "print(a) \n"
   ]
  },
  {
   "attachments": {},
   "cell_type": "markdown",
   "metadata": {},
   "source": [
    "deleting AN ELEMENT\n",
    "POP\n",
    "DEL"
   ]
  },
  {
   "cell_type": "code",
   "execution_count": null,
   "metadata": {},
   "outputs": [
    {
     "data": {
      "text/plain": [
       "4"
      ]
     },
     "execution_count": 5,
     "metadata": {},
     "output_type": "execute_result"
    }
   ],
   "source": [
    "A=[1,2,3,4]\n",
    "A.pop()"
   ]
  },
  {
   "cell_type": "code",
   "execution_count": null,
   "metadata": {},
   "outputs": [],
   "source": []
  },
  {
   "cell_type": "code",
   "execution_count": null,
   "metadata": {},
   "outputs": [
    {
     "name": "stdout",
     "output_type": "stream",
     "text": [
      "[1, 2, 3]\n"
     ]
    }
   ],
   "source": [
    "print(A)"
   ]
  },
  {
   "cell_type": "code",
   "execution_count": null,
   "metadata": {},
   "outputs": [
    {
     "data": {
      "text/plain": [
       "3"
      ]
     },
     "execution_count": 7,
     "metadata": {},
     "output_type": "execute_result"
    }
   ],
   "source": [
    "A.pop(2)"
   ]
  },
  {
   "cell_type": "code",
   "execution_count": null,
   "metadata": {},
   "outputs": [
    {
     "name": "stdout",
     "output_type": "stream",
     "text": [
      "['anushka', 'shreya', 'anu', 'akshita', 'shi']\n"
     ]
    }
   ],
   "source": [
    "print(a)"
   ]
  },
  {
   "cell_type": "code",
   "execution_count": null,
   "metadata": {},
   "outputs": [
    {
     "name": "stdout",
     "output_type": "stream",
     "text": [
      "[1, 2]\n"
     ]
    }
   ],
   "source": [
    "print(A)"
   ]
  },
  {
   "cell_type": "code",
   "execution_count": null,
   "metadata": {},
   "outputs": [],
   "source": []
  }
 ],
 "metadata": {
  "kernelspec": {
   "display_name": "base",
   "language": "python",
   "name": "python3"
  },
  "language_info": {
   "codemirror_mode": {
    "name": "ipython",
    "version": 3
   },
   "file_extension": ".py",
   "mimetype": "text/x-python",
   "name": "python",
   "nbconvert_exporter": "python",
   "pygments_lexer": "ipython3",
   "version": "3.10.10"
  },
  "orig_nbformat": 4
 },
 "nbformat": 4,
 "nbformat_minor": 2
}
