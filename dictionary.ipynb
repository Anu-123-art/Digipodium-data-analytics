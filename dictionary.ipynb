{
 "cells": [
  {
   "cell_type": "code",
   "execution_count": 3,
   "metadata": {},
   "outputs": [
    {
     "name": "stdout",
     "output_type": "stream",
     "text": [
      "{'Student_name': 'Anushka Srivastava', 'COURSE': 'BCA', 'Semester Fee': '27000 PER SEM', 'COLG_NAME': 'LBSGCM'}\n"
     ]
    }
   ],
   "source": [
    "student_info={'Student_name':\"Anushka Srivastava\", 'COURSE':\"BCA\",'Semester Fee':\"27000 PER SEM\",'COLG_NAME':\"LBSGCM\"\n",
    "\n",
    "}\n",
    "print(student_info)"
   ]
  },
  {
   "cell_type": "code",
   "execution_count": 4,
   "metadata": {},
   "outputs": [],
   "source": [
    "movies={\n",
    "    'Super30':{\n",
    "        'streamed on':\"Disney Hotstar\",\n",
    "        'plot':\"Education is meant for everyone\",\n",
    "        'lead_role':\"Hritik Roshan\"},\n",
    "     '3idiots':{\n",
    "        'streamed on':\"Disney Hotstar\",\n",
    "        'plot':\"Learing is not only mugging up,but concept clarity should be there\",\n",
    "        'lead_role':\"Amir Khan\"},\n",
    "    'Shershah':{\n",
    "        'streamed on':\"Disney Hotstar\",\n",
    "        'plot':\"Soldier always love to sacrifice their life for the country\",\n",
    "        'lead_role':\"Siddharth Malhotra\"},\n",
    "    'Kerela_Story':{\n",
    "        'streamed on':\"Disney Hotstar\",\n",
    "        'plot':\"Radicalistion of any religion is harmful\",\n",
    "        'lead_role':\"Adah Sharma\"},\n",
    "    'Chichorre':{\n",
    "        'streamed on':\"Disney Hotstar\",\n",
    "        'plot':\"Failure is not the end of the success but it is motivation to the success\",\n",
    "        'lead_role':\"Sushant Singh Rajput\"}\n",
    "\n",
    "    }   \n"
   ]
  },
  {
   "attachments": {},
   "cell_type": "markdown",
   "metadata": {},
   "source": [
    "# ADDING DATA\n",
    "SYNTAX\n",
    "```dict[key]=value```"
   ]
  },
  {
   "cell_type": "code",
   "execution_count": 6,
   "metadata": {},
   "outputs": [],
   "source": [
    "movies['LIFE_OF_PIE']={\n",
    "    'streamed on':\"Disney Hotstar\",\n",
    "        'plot':\"Just wait life always gives us a second chance\",\n",
    "        'lead_role':\"ADIL HUSSAIN\"}\n",
    "\n"
   ]
  },
  {
   "cell_type": "code",
   "execution_count": 8,
   "metadata": {},
   "outputs": [
    {
     "data": {
      "text/plain": [
       "{'Super30': {'streamed on': 'Disney Hotstar',\n",
       "  'plot': 'Education is meant for everyone',\n",
       "  'lead_role': 'Hritik Roshan'},\n",
       " '3idiots': {'streamed on': 'Disney Hotstar',\n",
       "  'plot': 'Learing is not only mugging up,but concept clarity should be there',\n",
       "  'lead_role': 'Amir Khan'},\n",
       " 'Shershah': {'streamed on': 'Disney Hotstar',\n",
       "  'plot': 'Soldier always love to sacrifice their life for the country',\n",
       "  'lead_role': 'Siddharth Malhotra'},\n",
       " 'Kerela_Story': {'streamed on': 'Disney Hotstar',\n",
       "  'plot': 'Radicalistion of any religion is harmful',\n",
       "  'lead_role': 'Adah Sharma'},\n",
       " 'Chichorre': {'streamed on': 'Disney Hotstar',\n",
       "  'plot': 'Failure is not the end of the success but it is motivation to the success',\n",
       "  'lead_role': 'Sushant Singh Rajput'},\n",
       " 'LIFE_OF_PIE': {'streamed on': 'Disney Hotstar',\n",
       "  'plot': 'Just wait life always gives us a second chance',\n",
       "  'lead_role': 'ADIL HUSSAIN'}}"
      ]
     },
     "execution_count": 8,
     "metadata": {},
     "output_type": "execute_result"
    }
   ],
   "source": [
    "movies"
   ]
  },
  {
   "cell_type": "code",
   "execution_count": 9,
   "metadata": {},
   "outputs": [
    {
     "data": {
      "text/plain": [
       "{'streamed on': 'Disney Hotstar',\n",
       " 'plot': 'Education is meant for everyone',\n",
       " 'lead_role': 'Hritik Roshan'}"
      ]
     },
     "execution_count": 9,
     "metadata": {},
     "output_type": "execute_result"
    }
   ],
   "source": [
    "#retrive\n",
    "movies[\"Super30\"]"
   ]
  },
  {
   "cell_type": "code",
   "execution_count": 11,
   "metadata": {},
   "outputs": [
    {
     "data": {
      "text/plain": [
       "'Learing is not only mugging up,but concept clarity should be there'"
      ]
     },
     "execution_count": 11,
     "metadata": {},
     "output_type": "execute_result"
    }
   ],
   "source": [
    "movies['3idiots']['plot']"
   ]
  },
  {
   "attachments": {},
   "cell_type": "markdown",
   "metadata": {},
   "source": [
    "# Dictionary methods"
   ]
  },
  {
   "cell_type": "code",
   "execution_count": 18,
   "metadata": {},
   "outputs": [
    {
     "data": {
      "text/plain": [
       "[{'streamed on': 'Disney Hotstar',\n",
       "  'plot': 'Education is meant for everyone',\n",
       "  'lead_role': 'Hritik Roshan'},\n",
       " {'streamed on': 'Disney Hotstar',\n",
       "  'plot': 'Learing is not only mugging up,but concept clarity should be there',\n",
       "  'lead_role': 'Amir Khan'},\n",
       " {'streamed on': 'Disney Hotstar',\n",
       "  'plot': 'Soldier always love to sacrifice their life for the country',\n",
       "  'lead_role': 'Siddharth Malhotra'},\n",
       " {'streamed on': 'Disney Hotstar',\n",
       "  'plot': 'Radicalistion of any religion is harmful',\n",
       "  'lead_role': 'Adah Sharma'},\n",
       " {'streamed on': 'Disney Hotstar',\n",
       "  'plot': 'Failure is not the end of the success but it is motivation to the success',\n",
       "  'lead_role': 'Sushant Singh Rajput'},\n",
       " {'streamed on': 'Disney Hotstar',\n",
       "  'plot': 'Just wait life always gives us a second chance',\n",
       "  'lead_role': 'ADIL HUSSAIN'}]"
      ]
     },
     "execution_count": 18,
     "metadata": {},
     "output_type": "execute_result"
    }
   ],
   "source": [
    "#keys()\n",
    "movies.keys()\n",
    "#values\n",
    "list(movies.values())"
   ]
  },
  {
   "cell_type": "code",
   "execution_count": 14,
   "metadata": {},
   "outputs": [
    {
     "name": "stdout",
     "output_type": "stream",
     "text": [
      "SUPER30\n",
      "streamed on    Disney Hotstar\n",
      "plot           Education is meant for everyone\n",
      "lead_role      Hritik Roshan\n",
      "\n",
      "3IDIOTS\n",
      "streamed on    Disney Hotstar\n",
      "plot           Learing is not only mugging up,but concept clarity should be there\n",
      "lead_role      Amir Khan\n",
      "\n",
      "SHERSHAH\n",
      "streamed on    Disney Hotstar\n",
      "plot           Soldier always love to sacrifice their life for the country\n",
      "lead_role      Siddharth Malhotra\n",
      "\n",
      "KERELA_STORY\n",
      "streamed on    Disney Hotstar\n",
      "plot           Radicalistion of any religion is harmful\n",
      "lead_role      Adah Sharma\n",
      "\n",
      "CHICHORRE\n",
      "streamed on    Disney Hotstar\n",
      "plot           Failure is not the end of the success but it is motivation to the success\n",
      "lead_role      Sushant Singh Rajput\n",
      "\n",
      "LIFE_OF_PIE\n",
      "streamed on    Disney Hotstar\n",
      "plot           Just wait life always gives us a second chance\n",
      "lead_role      ADIL HUSSAIN\n",
      "\n"
     ]
    }
   ],
   "source": [
    "for title,details in movies.items():\n",
    "    print(title.upper())\n",
    "    for entry,value in details.items():\n",
    "        print(f'{entry:15}{value}')\n",
    "    print()    \n",
    "\n",
    "\n"
   ]
  },
  {
   "cell_type": "code",
   "execution_count": 16,
   "metadata": {},
   "outputs": [
    {
     "name": "stdout",
     "output_type": "stream",
     "text": [
      "Super30\n",
      "3idiots\n",
      "Shershah\n",
      "Kerela_Story\n",
      "Chichorre\n",
      "LIFE_OF_PIE\n"
     ]
    }
   ],
   "source": [
    "for titles in movies.keys():\n",
    "    ###print(titles)\n",
    "    \n",
    "\n"
   ]
  },
  {
   "cell_type": "code",
   "execution_count": null,
   "metadata": {},
   "outputs": [],
   "source": []
  }
 ],
 "metadata": {
  "kernelspec": {
   "display_name": "base",
   "language": "python",
   "name": "python3"
  },
  "language_info": {
   "codemirror_mode": {
    "name": "ipython",
    "version": 3
   },
   "file_extension": ".py",
   "mimetype": "text/x-python",
   "name": "python",
   "nbconvert_exporter": "python",
   "pygments_lexer": "ipython3",
   "version": "3.10.10"
  },
  "orig_nbformat": 4
 },
 "nbformat": 4,
 "nbformat_minor": 2
}
